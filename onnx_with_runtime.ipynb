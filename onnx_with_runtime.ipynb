{
 "cells": [
  {
   "cell_type": "code",
   "execution_count": 174,
   "metadata": {},
   "outputs": [],
   "source": [
    "import onnxruntime as rt\n",
    "import numpy as np\n",
    "from skimage import io\n",
    "import matplotlib.pyplot as plt\n",
    "from skimage.transform import resize\n",
    "from skimage import img_as_float\n",
    "\n"
   ]
  },
  {
   "cell_type": "code",
   "execution_count": 210,
   "metadata": {},
   "outputs": [
    {
     "name": "stdout",
     "output_type": "stream",
     "text": [
      "Help on InferenceSession in module onnxruntime.capi.session object:\n",
      "\n",
      "class InferenceSession(builtins.object)\n",
      " |  InferenceSession(path_or_bytes, sess_options=None, providers=[])\n",
      " |  \n",
      " |  This is the main class used to run a model.\n",
      " |  \n",
      " |  Methods defined here:\n",
      " |  \n",
      " |  __init__(self, path_or_bytes, sess_options=None, providers=[])\n",
      " |      :param path_or_bytes: filename or serialized model in a byte string\n",
      " |      :param sess_options: session options\n",
      " |      :param providers: providers to use for session. If empty, will use\n",
      " |          all available providers.\n",
      " |  \n",
      " |  disable_fallback(self)\n",
      " |      Disable session.run() fallback mechanism.\n",
      " |  \n",
      " |  enable_fallback(self)\n",
      " |      Enable session.Run() fallback mechanism. If session.Run() fails due to an internal Execution Provider failure, reset the Execution Providers\n",
      " |      enabled for this session.\n",
      " |      If GPU is enabled, fall back to CUDAExecutionProvider.\n",
      " |      otherwise fall back to CPUExecutionProvider.\n",
      " |  \n",
      " |  end_profiling(self)\n",
      " |      End profiling and return results in a file.\n",
      " |      \n",
      " |      The results are stored in a filename if the option\n",
      " |      :meth:`onnxruntime.SessionOptions.enable_profiling`.\n",
      " |  \n",
      " |  get_inputs(self)\n",
      " |      Return the inputs metadata as a list of :class:`onnxruntime.NodeArg`.\n",
      " |  \n",
      " |  get_modelmeta(self)\n",
      " |      Return the metadata. See :class:`onnxruntime.ModelMetadata`.\n",
      " |  \n",
      " |  get_outputs(self)\n",
      " |      Return the outputs metadata as a list of :class:`onnxruntime.NodeArg`.\n",
      " |  \n",
      " |  get_overridable_initializers(self)\n",
      " |      Return the inputs (including initializers) metadata as a list of :class:`onnxruntime.NodeArg`.\n",
      " |  \n",
      " |  get_providers(self)\n",
      " |      Return list of registered execution providers.\n",
      " |  \n",
      " |  get_session_options(self)\n",
      " |      Return the session options. See :class:`onnxruntime.SessionOptions`.\n",
      " |  \n",
      " |  run(self, output_names, input_feed, run_options=None)\n",
      " |      Compute the predictions.\n",
      " |      \n",
      " |      :param output_names: name of the outputs\n",
      " |      :param input_feed: dictionary ``{ input_name: input_value }``\n",
      " |      :param run_options: See :class:`onnxruntime.RunOptions`.\n",
      " |      \n",
      " |      ::\n",
      " |      \n",
      " |          sess.run([output_name], {input_name: x})\n",
      " |  \n",
      " |  set_providers(self, providers)\n",
      " |      Register the input list of execution providers. The underlying session is re-created.\n",
      " |      \n",
      " |      :param providers: list of execution providers\n",
      " |      \n",
      " |      The list of providers is ordered by Priority. For example ['CUDAExecutionProvider', 'CPUExecutionProvider'] means\n",
      " |      execute a node using CUDAExecutionProvider if capable, otherwise execute using CPUExecutionProvider.\n",
      " |  \n",
      " |  ----------------------------------------------------------------------\n",
      " |  Data descriptors defined here:\n",
      " |  \n",
      " |  __dict__\n",
      " |      dictionary for instance variables (if defined)\n",
      " |  \n",
      " |  __weakref__\n",
      " |      list of weak references to the object (if defined)\n",
      "\n"
     ]
    }
   ],
   "source": [
    "sess = rt.InferenceSession(\"pilotNet.onnx\")\n",
    "help(sess)\n"
   ]
  },
  {
   "cell_type": "code",
   "execution_count": 192,
   "metadata": {},
   "outputs": [
    {
     "name": "stdout",
     "output_type": "stream",
     "text": [
      "(1, 256, 256, 3)\n"
     ]
    }
   ],
   "source": [
    "#img = io.imread('7.jpg');\n",
    "#img = io.collection('images/*'', conserve_memory=True)\n",
    "img = io.ImageCollection(\"images/*\", conserve_memory=True)\n",
    "\n",
    "#imgTest = imresize(img,1)\n",
    "np_img = np.array(img)\n",
    "print(np_img.shape)\n"
   ]
  },
  {
   "cell_type": "code",
   "execution_count": 199,
   "metadata": {},
   "outputs": [],
   "source": [
    "# The model creaeted uses the 1 x 256 x 256 x 3\n",
    "np_reshape = np.reshape(img,(1, 3, 256,256))\n",
    "#np_reshape.shape"
   ]
  },
  {
   "cell_type": "code",
   "execution_count": 187,
   "metadata": {},
   "outputs": [],
   "source": [
    "# PROCESS THE DATA\n",
    "# \n",
    "#np_img = np.array(img)\n",
    "#print(\"X train start shape\", np_img.shape)"
   ]
  },
  {
   "cell_type": "code",
   "execution_count": 136,
   "metadata": {},
   "outputs": [
    {
     "name": "stdout",
     "output_type": "stream",
     "text": [
      "\n",
      "        Compute the predictions.\n",
      "\n",
      "        :param output_names: name of the outputs\n",
      "        :param input_feed: dictionary ``{ input_name: input_value }``\n",
      "        :param run_options: See :class:`onnxruntime.RunOptions`.\n",
      "\n",
      "        ::\n",
      "\n",
      "            sess.run([output_name], {input_name: x})\n",
      "        \n"
     ]
    }
   ],
   "source": [
    "print(sess.run.__doc__)"
   ]
  },
  {
   "cell_type": "code",
   "execution_count": 166,
   "metadata": {},
   "outputs": [
    {
     "name": "stdout",
     "output_type": "stream",
     "text": [
      "ImageInputLayer\n",
      "Softmax_Layer_Transpose2\n"
     ]
    }
   ],
   "source": [
    "input_name = sess.get_inputs()[0].name\n",
    "output_name = sess.get_outputs()[0].name\n",
    "print(input_name)\n",
    "print(output_name)"
   ]
  },
  {
   "cell_type": "markdown",
   "metadata": {},
   "source": [
    "# Helpful errors msgs\n",
    "http://www.xavierdupre.fr/app/onnxruntime/helpsphinx/auto_examples/plot_common_errors.html"
   ]
  },
  {
   "cell_type": "code",
   "execution_count": 200,
   "metadata": {},
   "outputs": [
    {
     "name": "stdout",
     "output_type": "stream",
     "text": [
      "Softmax_Layer_Transpose2\n",
      "(1, 3, 256, 256)\n",
      "<class 'numpy.ndarray'>\n"
     ]
    }
   ],
   "source": [
    "#pred_onx = sess.run([0,1,2],{input:img})\n",
    "#output_label = [\"0\",\"1\",\"2\",\"4\"]\n",
    "output_label_2 = \"output\"\n",
    "\n",
    "#floatnp = img_as_float(np_img)\n",
    "floatAstype = np.float32(np_reshape)\n",
    "\n",
    "print(output_name)\n",
    "print(floatAstype.shape)\n",
    "print(type(floatAstype))\n",
    "\n",
    "pred_onx = sess.run(kk, {input_name:floatAstype})\n"
   ]
  },
  {
   "cell_type": "code",
   "execution_count": 206,
   "metadata": {},
   "outputs": [
    {
     "data": {
      "text/plain": [
       "''"
      ]
     },
     "execution_count": 206,
     "metadata": {},
     "output_type": "execute_result"
    }
   ],
   "source": [
    "kk"
   ]
  },
  {
   "cell_type": "code",
   "execution_count": 208,
   "metadata": {},
   "outputs": [
    {
     "data": {
      "text/plain": [
       "[array([[[[4.7830638e-25, 9.0731245e-10, 6.9294870e-04, ...,\n",
       "           6.9294870e-04, 6.9294870e-04, 6.9294870e-04],\n",
       "          [0.0000000e+00, 3.9583380e-12, 6.9294870e-04, ...,\n",
       "           6.9294870e-04, 6.9294870e-04, 6.9294870e-04],\n",
       "          [9.7795234e-26, 1.5235419e-26, 6.9294870e-04, ...,\n",
       "           6.9294870e-04, 6.9294870e-04, 6.9294870e-04],\n",
       "          ...,\n",
       "          [0.0000000e+00, 5.1496579e-17, 6.9294870e-04, ...,\n",
       "           6.9294870e-04, 6.9294870e-04, 6.9294870e-04],\n",
       "          [0.0000000e+00, 8.8016208e-27, 6.9294870e-04, ...,\n",
       "           0.0000000e+00, 0.0000000e+00, 0.0000000e+00],\n",
       "          [0.0000000e+00, 0.0000000e+00, 6.9294870e-04, ...,\n",
       "           2.7168195e-38, 0.0000000e+00, 0.0000000e+00]],\n",
       " \n",
       "         [[1.7394333e-13, 9.6341537e-06, 1.6660694e-02, ...,\n",
       "           1.6660694e-02, 1.6660694e-02, 1.6660694e-02],\n",
       "          [4.2258419e-24, 3.6237861e-07, 1.6660694e-02, ...,\n",
       "           1.6660694e-02, 1.6660694e-02, 1.6660694e-02],\n",
       "          [2.4596175e-14, 2.0703436e-15, 1.6660694e-02, ...,\n",
       "           1.6660694e-02, 1.6660694e-02, 1.6660694e-02],\n",
       "          ...,\n",
       "          [0.0000000e+00, 7.0726286e-11, 1.6660694e-02, ...,\n",
       "           1.6660694e-02, 1.6660694e-02, 1.6660694e-02],\n",
       "          [0.0000000e+00, 1.6216547e-17, 1.6660694e-02, ...,\n",
       "           3.7102830e-29, 0.0000000e+00, 0.0000000e+00],\n",
       "          [0.0000000e+00, 0.0000000e+00, 1.6660694e-02, ...,\n",
       "           2.3151766e-21, 0.0000000e+00, 0.0000000e+00]],\n",
       " \n",
       "         [[3.5247909e-11, 5.9464241e-05, 2.1435603e-02, ...,\n",
       "           2.1435603e-02, 2.1435603e-02, 2.1435603e-02],\n",
       "          [1.0425536e-20, 6.6767511e-06, 2.1435603e-02, ...,\n",
       "           2.1435603e-02, 2.1435603e-02, 2.1435603e-02],\n",
       "          [1.3069199e-12, 2.0660448e-14, 2.1435603e-02, ...,\n",
       "           2.1435603e-02, 2.1435603e-02, 2.1435603e-02],\n",
       "          ...,\n",
       "          [0.0000000e+00, 6.5721922e-10, 2.1435603e-02, ...,\n",
       "           2.1435603e-02, 2.1435603e-02, 2.1435603e-02],\n",
       "          [0.0000000e+00, 1.2697731e-15, 2.1435603e-02, ...,\n",
       "           5.2238696e-26, 0.0000000e+00, 0.0000000e+00],\n",
       "          [0.0000000e+00, 0.0000000e+00, 2.1435603e-02, ...,\n",
       "           2.4838728e-18, 0.0000000e+00, 0.0000000e+00]],\n",
       " \n",
       "         [[1.0000000e+00, 9.9993086e-01, 9.6121073e-01, ...,\n",
       "           9.6121073e-01, 9.6121073e-01, 9.6121073e-01],\n",
       "          [1.0000000e+00, 9.9999297e-01, 9.6121073e-01, ...,\n",
       "           9.6121073e-01, 9.6121073e-01, 9.6121073e-01],\n",
       "          [1.0000000e+00, 1.0000000e+00, 9.6121073e-01, ...,\n",
       "           9.6121073e-01, 9.6121073e-01, 9.6121073e-01],\n",
       "          ...,\n",
       "          [1.0000000e+00, 1.0000000e+00, 9.6121073e-01, ...,\n",
       "           9.6121073e-01, 9.6121073e-01, 9.6121073e-01],\n",
       "          [1.0000000e+00, 1.0000000e+00, 9.6121073e-01, ...,\n",
       "           1.0000000e+00, 1.0000000e+00, 1.0000000e+00],\n",
       "          [1.0000000e+00, 1.0000000e+00, 9.6121073e-01, ...,\n",
       "           1.0000000e+00, 1.0000000e+00, 1.0000000e+00]]]], dtype=float32)]"
      ]
     },
     "execution_count": 208,
     "metadata": {},
     "output_type": "execute_result"
    }
   ],
   "source": [
    "pred_onx"
   ]
  },
  {
   "cell_type": "code",
   "execution_count": 204,
   "metadata": {},
   "outputs": [
    {
     "ename": "ValueError",
     "evalue": "Must pass 2-d input",
     "output_type": "error",
     "traceback": [
      "\u001b[1;31m---------------------------------------------------------------------------\u001b[0m",
      "\u001b[1;31mValueError\u001b[0m                                Traceback (most recent call last)",
      "\u001b[1;32m<ipython-input-204-09ee16658ad4>\u001b[0m in \u001b[0;36m<module>\u001b[1;34m\u001b[0m\n\u001b[0;32m      2\u001b[0m \u001b[1;33m\u001b[0m\u001b[0m\n\u001b[0;32m      3\u001b[0m \u001b[1;31m## convert your array into a dataframe\u001b[0m\u001b[1;33m\u001b[0m\u001b[1;33m\u001b[0m\u001b[1;33m\u001b[0m\u001b[0m\n\u001b[1;32m----> 4\u001b[1;33m \u001b[0mdf\u001b[0m \u001b[1;33m=\u001b[0m \u001b[0mpd\u001b[0m\u001b[1;33m.\u001b[0m\u001b[0mDataFrame\u001b[0m \u001b[1;33m(\u001b[0m\u001b[0mpred_onx\u001b[0m\u001b[1;33m)\u001b[0m\u001b[1;33m\u001b[0m\u001b[1;33m\u001b[0m\u001b[0m\n\u001b[0m\u001b[0;32m      5\u001b[0m \u001b[1;33m\u001b[0m\u001b[0m\n\u001b[0;32m      6\u001b[0m \u001b[1;31m## save to xlsx file\u001b[0m\u001b[1;33m\u001b[0m\u001b[1;33m\u001b[0m\u001b[1;33m\u001b[0m\u001b[0m\n",
      "\u001b[1;32m~\\AppData\\Local\\Continuum\\anaconda3\\lib\\site-packages\\pandas\\core\\frame.py\u001b[0m in \u001b[0;36m__init__\u001b[1;34m(self, data, index, columns, dtype, copy)\u001b[0m\n\u001b[0;32m    462\u001b[0m                     \u001b[0mmgr\u001b[0m \u001b[1;33m=\u001b[0m \u001b[0marrays_to_mgr\u001b[0m\u001b[1;33m(\u001b[0m\u001b[0marrays\u001b[0m\u001b[1;33m,\u001b[0m \u001b[0mcolumns\u001b[0m\u001b[1;33m,\u001b[0m \u001b[0mindex\u001b[0m\u001b[1;33m,\u001b[0m \u001b[0mcolumns\u001b[0m\u001b[1;33m,\u001b[0m \u001b[0mdtype\u001b[0m\u001b[1;33m=\u001b[0m\u001b[0mdtype\u001b[0m\u001b[1;33m)\u001b[0m\u001b[1;33m\u001b[0m\u001b[1;33m\u001b[0m\u001b[0m\n\u001b[0;32m    463\u001b[0m                 \u001b[1;32melse\u001b[0m\u001b[1;33m:\u001b[0m\u001b[1;33m\u001b[0m\u001b[1;33m\u001b[0m\u001b[0m\n\u001b[1;32m--> 464\u001b[1;33m                     \u001b[0mmgr\u001b[0m \u001b[1;33m=\u001b[0m \u001b[0minit_ndarray\u001b[0m\u001b[1;33m(\u001b[0m\u001b[0mdata\u001b[0m\u001b[1;33m,\u001b[0m \u001b[0mindex\u001b[0m\u001b[1;33m,\u001b[0m \u001b[0mcolumns\u001b[0m\u001b[1;33m,\u001b[0m \u001b[0mdtype\u001b[0m\u001b[1;33m=\u001b[0m\u001b[0mdtype\u001b[0m\u001b[1;33m,\u001b[0m \u001b[0mcopy\u001b[0m\u001b[1;33m=\u001b[0m\u001b[0mcopy\u001b[0m\u001b[1;33m)\u001b[0m\u001b[1;33m\u001b[0m\u001b[1;33m\u001b[0m\u001b[0m\n\u001b[0m\u001b[0;32m    465\u001b[0m             \u001b[1;32melse\u001b[0m\u001b[1;33m:\u001b[0m\u001b[1;33m\u001b[0m\u001b[1;33m\u001b[0m\u001b[0m\n\u001b[0;32m    466\u001b[0m                 \u001b[0mmgr\u001b[0m \u001b[1;33m=\u001b[0m \u001b[0minit_dict\u001b[0m\u001b[1;33m(\u001b[0m\u001b[1;33m{\u001b[0m\u001b[1;33m}\u001b[0m\u001b[1;33m,\u001b[0m \u001b[0mindex\u001b[0m\u001b[1;33m,\u001b[0m \u001b[0mcolumns\u001b[0m\u001b[1;33m,\u001b[0m \u001b[0mdtype\u001b[0m\u001b[1;33m=\u001b[0m\u001b[0mdtype\u001b[0m\u001b[1;33m)\u001b[0m\u001b[1;33m\u001b[0m\u001b[1;33m\u001b[0m\u001b[0m\n",
      "\u001b[1;32m~\\AppData\\Local\\Continuum\\anaconda3\\lib\\site-packages\\pandas\\core\\internals\\construction.py\u001b[0m in \u001b[0;36minit_ndarray\u001b[1;34m(values, index, columns, dtype, copy)\u001b[0m\n\u001b[0;32m    169\u001b[0m     \u001b[1;31m# by definition an array here\u001b[0m\u001b[1;33m\u001b[0m\u001b[1;33m\u001b[0m\u001b[1;33m\u001b[0m\u001b[0m\n\u001b[0;32m    170\u001b[0m     \u001b[1;31m# the dtypes will be coerced to a single dtype\u001b[0m\u001b[1;33m\u001b[0m\u001b[1;33m\u001b[0m\u001b[1;33m\u001b[0m\u001b[0m\n\u001b[1;32m--> 171\u001b[1;33m     \u001b[0mvalues\u001b[0m \u001b[1;33m=\u001b[0m \u001b[0mprep_ndarray\u001b[0m\u001b[1;33m(\u001b[0m\u001b[0mvalues\u001b[0m\u001b[1;33m,\u001b[0m \u001b[0mcopy\u001b[0m\u001b[1;33m=\u001b[0m\u001b[0mcopy\u001b[0m\u001b[1;33m)\u001b[0m\u001b[1;33m\u001b[0m\u001b[1;33m\u001b[0m\u001b[0m\n\u001b[0m\u001b[0;32m    172\u001b[0m \u001b[1;33m\u001b[0m\u001b[0m\n\u001b[0;32m    173\u001b[0m     \u001b[1;32mif\u001b[0m \u001b[0mdtype\u001b[0m \u001b[1;32mis\u001b[0m \u001b[1;32mnot\u001b[0m \u001b[1;32mNone\u001b[0m\u001b[1;33m:\u001b[0m\u001b[1;33m\u001b[0m\u001b[1;33m\u001b[0m\u001b[0m\n",
      "\u001b[1;32m~\\AppData\\Local\\Continuum\\anaconda3\\lib\\site-packages\\pandas\\core\\internals\\construction.py\u001b[0m in \u001b[0;36mprep_ndarray\u001b[1;34m(values, copy)\u001b[0m\n\u001b[0;32m    293\u001b[0m         \u001b[0mvalues\u001b[0m \u001b[1;33m=\u001b[0m \u001b[0mvalues\u001b[0m\u001b[1;33m.\u001b[0m\u001b[0mreshape\u001b[0m\u001b[1;33m(\u001b[0m\u001b[1;33m(\u001b[0m\u001b[0mvalues\u001b[0m\u001b[1;33m.\u001b[0m\u001b[0mshape\u001b[0m\u001b[1;33m[\u001b[0m\u001b[1;36m0\u001b[0m\u001b[1;33m]\u001b[0m\u001b[1;33m,\u001b[0m \u001b[1;36m1\u001b[0m\u001b[1;33m)\u001b[0m\u001b[1;33m)\u001b[0m\u001b[1;33m\u001b[0m\u001b[1;33m\u001b[0m\u001b[0m\n\u001b[0;32m    294\u001b[0m     \u001b[1;32melif\u001b[0m \u001b[0mvalues\u001b[0m\u001b[1;33m.\u001b[0m\u001b[0mndim\u001b[0m \u001b[1;33m!=\u001b[0m \u001b[1;36m2\u001b[0m\u001b[1;33m:\u001b[0m\u001b[1;33m\u001b[0m\u001b[1;33m\u001b[0m\u001b[0m\n\u001b[1;32m--> 295\u001b[1;33m         \u001b[1;32mraise\u001b[0m \u001b[0mValueError\u001b[0m\u001b[1;33m(\u001b[0m\u001b[1;34m\"Must pass 2-d input\"\u001b[0m\u001b[1;33m)\u001b[0m\u001b[1;33m\u001b[0m\u001b[1;33m\u001b[0m\u001b[0m\n\u001b[0m\u001b[0;32m    296\u001b[0m \u001b[1;33m\u001b[0m\u001b[0m\n\u001b[0;32m    297\u001b[0m     \u001b[1;32mreturn\u001b[0m \u001b[0mvalues\u001b[0m\u001b[1;33m\u001b[0m\u001b[1;33m\u001b[0m\u001b[0m\n",
      "\u001b[1;31mValueError\u001b[0m: Must pass 2-d input"
     ]
    }
   ],
   "source": [
    "import pandas as pd\n",
    "\n",
    "## convert your array into a dataframe\n",
    "df = pd.DataFrame (pred_onx)\n",
    "\n",
    "## save to xlsx file\n",
    "\n",
    "filepath = 'my_excel_file.xlsx'\n",
    "\n",
    "df.to_excel(filepath, index=False)"
   ]
  }
 ],
 "metadata": {
  "kernelspec": {
   "display_name": "Python 3",
   "language": "python",
   "name": "python3"
  },
  "language_info": {
   "codemirror_mode": {
    "name": "ipython",
    "version": 3
   },
   "file_extension": ".py",
   "mimetype": "text/x-python",
   "name": "python",
   "nbconvert_exporter": "python",
   "pygments_lexer": "ipython3",
   "version": "3.7.4"
  }
 },
 "nbformat": 4,
 "nbformat_minor": 4
}
